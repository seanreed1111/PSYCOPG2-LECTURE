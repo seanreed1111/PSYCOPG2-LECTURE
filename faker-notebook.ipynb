{
 "cells": [
  {
   "cell_type": "code",
   "execution_count": null,
   "metadata": {},
   "outputs": [],
   "source": [
    "!conda install psycopg2 -y"
   ]
  },
  {
   "cell_type": "code",
   "execution_count": 3,
   "metadata": {},
   "outputs": [],
   "source": [
    "!conda install faker -y"
   ]
  },
  {
   "cell_type": "code",
   "execution_count": 8,
   "metadata": {},
   "outputs": [],
   "source": [
    "import psycopg2\n",
    "import os, getpass\n",
    "from faker import Faker"
   ]
  },
  {
   "cell_type": "markdown",
   "metadata": {},
   "source": [
    "Python Faker tutorial shows how to generate fake data in Python with Faker package. We use the joke2k/faker library.\n",
    "http://zetcode.com/python/faker/"
   ]
  },
  {
   "cell_type": "code",
   "execution_count": 3,
   "metadata": {},
   "outputs": [
    {
     "data": {
      "text/plain": [
       "'seanreed1'"
      ]
     },
     "execution_count": 3,
     "metadata": {},
     "output_type": "execute_result"
    }
   ],
   "source": [
    "getpass.getuser()"
   ]
  },
  {
   "cell_type": "code",
   "execution_count": 4,
   "metadata": {},
   "outputs": [
    {
     "data": {
      "text/plain": [
       "'seanreed1'"
      ]
     },
     "execution_count": 4,
     "metadata": {},
     "output_type": "execute_result"
    }
   ],
   "source": [
    "os.getlogin()"
   ]
  },
  {
   "cell_type": "markdown",
   "metadata": {},
   "source": [
    "## Now, go to psql or sql shell or pgadmin and create a new database called jupyterdb\n",
    "\n",
    "#### I'll wait..."
   ]
  },
  {
   "cell_type": "markdown",
   "metadata": {},
   "source": [
    "We need to use the CONNECT method of psycopg2 to connect to the new database"
   ]
  },
  {
   "cell_type": "markdown",
   "metadata": {},
   "source": [
    "### Think of the CONN aka CONNECTION as just the infrastructure of the communication channel between your computer and postgres. \n",
    "\n",
    "### The CONN serves the same purpose as psql and pgadmin. It allows you talk to postgres."
   ]
  },
  {
   "cell_type": "code",
   "execution_count": null,
   "metadata": {},
   "outputs": [],
   "source": []
  },
  {
   "cell_type": "markdown",
   "metadata": {},
   "source": [
    "#### On a mac, you will not need the password of the connection user if you use the user that getpass / os.getlogin knows. If you want to connect to the database as a DIFFERENT user, you will need the password for that user.\n",
    "\n",
    "#### On windows, you will need to provide a password AT ALL TIME, regardless of which user you want to use to connect!\n"
   ]
  },
  {
   "cell_type": "code",
   "execution_count": 11,
   "metadata": {},
   "outputs": [],
   "source": [
    "#ON MAC or Linux ONLY\n",
    "\n",
    "conn = psycopg2.connect(database=\"jupyterdb\", \n",
    "                        user=getpass.getuser()) #create the database FIRST before doing this!\n",
    "cur = conn.cursor()"
   ]
  },
  {
   "cell_type": "code",
   "execution_count": null,
   "metadata": {},
   "outputs": [],
   "source": [
    "# ON WINDOWS\n",
    "conn = psycopg2.connect(database=\"jupyterdb\", \n",
    "                        user=getpass.getuser(), \n",
    "                        password='INSERT_YOUR_PASSWORD_HERE') #create the database FIRST before doing this!\n",
    "cur = conn.cursor()"
   ]
  },
  {
   "cell_type": "code",
   "execution_count": null,
   "metadata": {},
   "outputs": [],
   "source": []
  },
  {
   "cell_type": "markdown",
   "metadata": {},
   "source": [
    "Let's take a look at the conn object"
   ]
  },
  {
   "cell_type": "code",
   "execution_count": 6,
   "metadata": {},
   "outputs": [
    {
     "data": {
      "text/plain": [
       "['DataError',\n",
       " 'DatabaseError',\n",
       " 'Error',\n",
       " 'IntegrityError',\n",
       " 'InterfaceError',\n",
       " 'InternalError',\n",
       " 'NotSupportedError',\n",
       " 'OperationalError',\n",
       " 'ProgrammingError',\n",
       " 'Warning',\n",
       " '__class__',\n",
       " '__delattr__',\n",
       " '__dir__',\n",
       " '__doc__',\n",
       " '__enter__',\n",
       " '__eq__',\n",
       " '__exit__',\n",
       " '__format__',\n",
       " '__ge__',\n",
       " '__getattribute__',\n",
       " '__gt__',\n",
       " '__hash__',\n",
       " '__init__',\n",
       " '__init_subclass__',\n",
       " '__le__',\n",
       " '__lt__',\n",
       " '__ne__',\n",
       " '__new__',\n",
       " '__reduce__',\n",
       " '__reduce_ex__',\n",
       " '__repr__',\n",
       " '__setattr__',\n",
       " '__sizeof__',\n",
       " '__str__',\n",
       " '__subclasshook__',\n",
       " 'async',\n",
       " 'async_',\n",
       " 'autocommit',\n",
       " 'binary_types',\n",
       " 'cancel',\n",
       " 'close',\n",
       " 'closed',\n",
       " 'commit',\n",
       " 'cursor',\n",
       " 'cursor_factory',\n",
       " 'deferrable',\n",
       " 'dsn',\n",
       " 'encoding',\n",
       " 'fileno',\n",
       " 'get_backend_pid',\n",
       " 'get_dsn_parameters',\n",
       " 'get_native_connection',\n",
       " 'get_parameter_status',\n",
       " 'get_transaction_status',\n",
       " 'info',\n",
       " 'isexecuting',\n",
       " 'isolation_level',\n",
       " 'lobject',\n",
       " 'notices',\n",
       " 'notifies',\n",
       " 'pgconn_ptr',\n",
       " 'poll',\n",
       " 'protocol_version',\n",
       " 'readonly',\n",
       " 'reset',\n",
       " 'rollback',\n",
       " 'server_version',\n",
       " 'set_client_encoding',\n",
       " 'set_isolation_level',\n",
       " 'set_session',\n",
       " 'status',\n",
       " 'string_types',\n",
       " 'tpc_begin',\n",
       " 'tpc_commit',\n",
       " 'tpc_prepare',\n",
       " 'tpc_recover',\n",
       " 'tpc_rollback',\n",
       " 'xid']"
      ]
     },
     "execution_count": 6,
     "metadata": {},
     "output_type": "execute_result"
    }
   ],
   "source": [
    "dir(conn)"
   ]
  },
  {
   "cell_type": "code",
   "execution_count": null,
   "metadata": {},
   "outputs": [],
   "source": []
  },
  {
   "cell_type": "markdown",
   "metadata": {},
   "source": [
    "### BY DEFAULT, THE CONN wraps everything you do in a TRANSACTION.\n",
    "\n",
    "WHATEVER YOU TELL IT TO CHANGE ON THE DATABASE, IT WILL KEEP TRACK, AND 99.9% of the time, IT ONLY MAKE THE CHANGES YOU ASK WHEN YOU EXPLICITLY TELL IT TO.\n",
    "\n",
    "ASIDE: SEAN TO DISCUSS TRANSACTIONS IN SQL.\n",
    "\n",
    "### The way you tell the CONN to write the changes to the database is **conn.commit()**"
   ]
  },
  {
   "cell_type": "code",
   "execution_count": null,
   "metadata": {},
   "outputs": [],
   "source": []
  },
  {
   "cell_type": "code",
   "execution_count": null,
   "metadata": {},
   "outputs": [],
   "source": []
  },
  {
   "cell_type": "code",
   "execution_count": null,
   "metadata": {},
   "outputs": [],
   "source": []
  },
  {
   "cell_type": "markdown",
   "metadata": {},
   "source": [
    "### Notice after we created the connection to our database, we execute the following statement:\n",
    "\n",
    "#### cur = conn.cursor()\n",
    "\n",
    "### This object, called the CURSOR, is how we actually send POSTGRESQL statements to the DATABASE. \n",
    "\n",
    "\n"
   ]
  },
  {
   "cell_type": "code",
   "execution_count": 7,
   "metadata": {},
   "outputs": [
    {
     "data": {
      "text/plain": [
       "['__class__',\n",
       " '__delattr__',\n",
       " '__dir__',\n",
       " '__doc__',\n",
       " '__enter__',\n",
       " '__eq__',\n",
       " '__exit__',\n",
       " '__format__',\n",
       " '__ge__',\n",
       " '__getattribute__',\n",
       " '__gt__',\n",
       " '__hash__',\n",
       " '__init__',\n",
       " '__init_subclass__',\n",
       " '__iter__',\n",
       " '__le__',\n",
       " '__lt__',\n",
       " '__ne__',\n",
       " '__new__',\n",
       " '__next__',\n",
       " '__reduce__',\n",
       " '__reduce_ex__',\n",
       " '__repr__',\n",
       " '__setattr__',\n",
       " '__sizeof__',\n",
       " '__str__',\n",
       " '__subclasshook__',\n",
       " 'arraysize',\n",
       " 'binary_types',\n",
       " 'callproc',\n",
       " 'cast',\n",
       " 'close',\n",
       " 'closed',\n",
       " 'connection',\n",
       " 'copy_expert',\n",
       " 'copy_from',\n",
       " 'copy_to',\n",
       " 'description',\n",
       " 'execute',\n",
       " 'executemany',\n",
       " 'fetchall',\n",
       " 'fetchmany',\n",
       " 'fetchone',\n",
       " 'itersize',\n",
       " 'lastrowid',\n",
       " 'mogrify',\n",
       " 'name',\n",
       " 'nextset',\n",
       " 'pgresult_ptr',\n",
       " 'query',\n",
       " 'row_factory',\n",
       " 'rowcount',\n",
       " 'rownumber',\n",
       " 'scroll',\n",
       " 'scrollable',\n",
       " 'setinputsizes',\n",
       " 'setoutputsize',\n",
       " 'statusmessage',\n",
       " 'string_types',\n",
       " 'typecaster',\n",
       " 'tzinfo_factory',\n",
       " 'withhold']"
      ]
     },
     "execution_count": 7,
     "metadata": {},
     "output_type": "execute_result"
    }
   ],
   "source": [
    "dir(cur)"
   ]
  },
  {
   "cell_type": "code",
   "execution_count": null,
   "metadata": {},
   "outputs": [],
   "source": [
    "## We'll learn about more about how to use cursors soon, primarily cur.execute(), cur.fetchone(), and cur.fetchall()."
   ]
  },
  {
   "cell_type": "code",
   "execution_count": null,
   "metadata": {},
   "outputs": [],
   "source": []
  },
  {
   "cell_type": "code",
   "execution_count": 12,
   "metadata": {},
   "outputs": [],
   "source": [
    "conn.autocommit = True  # make ever time you execute a single database transaction."
   ]
  },
  {
   "cell_type": "code",
   "execution_count": 13,
   "metadata": {},
   "outputs": [],
   "source": [
    "q = \"\"\"\n",
    "DROP TABLE IF EXISTS psycopg_test;\n",
    "CREATE TABLE psycopg_test (id serial PRIMARY KEY, name text, email text);\n",
    "\"\"\""
   ]
  },
  {
   "cell_type": "code",
   "execution_count": 14,
   "metadata": {},
   "outputs": [],
   "source": [
    "cur.execute(q)"
   ]
  },
  {
   "cell_type": "code",
   "execution_count": 15,
   "metadata": {},
   "outputs": [],
   "source": [
    "cur.execute(\"INSERT INTO psycopg_test (name, email) VALUES (%s, %s)\",['sean', 'sean.reed@galvanize.com'] )"
   ]
  },
  {
   "cell_type": "code",
   "execution_count": null,
   "metadata": {},
   "outputs": [],
   "source": []
  },
  {
   "cell_type": "code",
   "execution_count": 16,
   "metadata": {},
   "outputs": [],
   "source": [
    "cur.execute(\"SELECT * FROM psycopg_test;\")"
   ]
  },
  {
   "cell_type": "code",
   "execution_count": 17,
   "metadata": {},
   "outputs": [
    {
     "data": {
      "text/plain": [
       "(1, 'sean', 'sean.reed@galvanize.com')"
      ]
     },
     "execution_count": 17,
     "metadata": {},
     "output_type": "execute_result"
    }
   ],
   "source": [
    "cur.fetchone()"
   ]
  },
  {
   "cell_type": "code",
   "execution_count": 18,
   "metadata": {},
   "outputs": [],
   "source": [
    "cur.fetchone() #None. Cursor has reached the end. No more values to return."
   ]
  },
  {
   "cell_type": "code",
   "execution_count": 9,
   "metadata": {},
   "outputs": [],
   "source": []
  },
  {
   "cell_type": "code",
   "execution_count": null,
   "metadata": {},
   "outputs": [],
   "source": []
  },
  {
   "cell_type": "code",
   "execution_count": 19,
   "metadata": {},
   "outputs": [],
   "source": [
    "cur.scroll(0,'absolute')"
   ]
  },
  {
   "cell_type": "code",
   "execution_count": 20,
   "metadata": {},
   "outputs": [
    {
     "data": {
      "text/plain": [
       "(1, 'sean', 'sean.reed@galvanize.com')"
      ]
     },
     "execution_count": 20,
     "metadata": {},
     "output_type": "execute_result"
    }
   ],
   "source": [
    "cur.fetchone()"
   ]
  },
  {
   "cell_type": "code",
   "execution_count": 12,
   "metadata": {},
   "outputs": [],
   "source": [
    "cur.fetchone() #None"
   ]
  },
  {
   "cell_type": "code",
   "execution_count": null,
   "metadata": {},
   "outputs": [],
   "source": []
  },
  {
   "cell_type": "code",
   "execution_count": null,
   "metadata": {},
   "outputs": [],
   "source": []
  },
  {
   "cell_type": "code",
   "execution_count": null,
   "metadata": {},
   "outputs": [],
   "source": [
    "conn.autocommit = True"
   ]
  },
  {
   "cell_type": "code",
   "execution_count": null,
   "metadata": {},
   "outputs": [],
   "source": []
  },
  {
   "cell_type": "code",
   "execution_count": 21,
   "metadata": {},
   "outputs": [
    {
     "data": {
      "text/plain": [
       "[('Bonnie Pacheco', 'ukramer@yahoo.com'),\n",
       " ('Daniel Richardson', 'benjamin41@johnson.net'),\n",
       " ('Shaun Vaughn', 'kimberly11@dixon.info'),\n",
       " ('Erin Whitehead', 'karen82@hotmail.com'),\n",
       " ('Debra Castro', 'amanda55@yahoo.com'),\n",
       " ('Jeffrey Thompson', 'ehaas@yahoo.com'),\n",
       " ('Aaron Jackson', 'bsmith@nash-garcia.com'),\n",
       " ('Bianca Mcgee', 'matthewbarber@gmail.com'),\n",
       " ('Aaron Murphy', 'xvilla@bell-miller.com'),\n",
       " ('Nicholas Martinez', 'fcastro@gmail.com'),\n",
       " ('Alan Harris', 'baileyjoseph@gmail.com'),\n",
       " ('Mikayla Bailey', 'bwright@wells.net'),\n",
       " ('Jessica Brown', 'hsmith@lewis.org'),\n",
       " ('Melissa Jackson', 'watsonstuart@gmail.com'),\n",
       " ('Taylor Boyle', 'nwilson@leonard.org'),\n",
       " ('Jenny Smith', 'scottsheila@miller.org'),\n",
       " ('Larry Perez', 'jadams@smith.biz'),\n",
       " ('Sonya Washington', 'qallen@gmail.com'),\n",
       " ('Sarah Ellis', 'lori57@mathis.com'),\n",
       " ('Fernando Estrada', 'mcdowellluis@richardson.com')]"
      ]
     },
     "execution_count": 21,
     "metadata": {},
     "output_type": "execute_result"
    }
   ],
   "source": [
    "fake_data = Faker()\n",
    "\n",
    "fake = [(fake_data.name(), fake_data.email()) for _ in range(20)]\n",
    "\n",
    "fake"
   ]
  },
  {
   "cell_type": "code",
   "execution_count": 22,
   "metadata": {},
   "outputs": [
    {
     "data": {
      "text/plain": [
       "('Bonnie Pacheco', 'ukramer@yahoo.com')"
      ]
     },
     "execution_count": 22,
     "metadata": {},
     "output_type": "execute_result"
    }
   ],
   "source": [
    "(fake[0][0], fake[0][1])"
   ]
  },
  {
   "cell_type": "code",
   "execution_count": 24,
   "metadata": {},
   "outputs": [],
   "source": [
    "with conn:\n",
    "    cur.execute(\"INSERT INTO psycopg_test (name, email) VALUES (%s, %s)\",(fake[0][0], fake[0][1]))"
   ]
  },
  {
   "cell_type": "code",
   "execution_count": 25,
   "metadata": {},
   "outputs": [
    {
     "data": {
      "text/plain": [
       "(1, 'sean', 'sean.reed@galvanize.com')"
      ]
     },
     "execution_count": 25,
     "metadata": {},
     "output_type": "execute_result"
    }
   ],
   "source": [
    "cur.execute(\"SELECT * FROM psycopg_test;\")\n",
    "cur.fetchone()"
   ]
  },
  {
   "cell_type": "code",
   "execution_count": 26,
   "metadata": {},
   "outputs": [
    {
     "data": {
      "text/plain": [
       "(2, 'Bonnie Pacheco', 'ukramer@yahoo.com')"
      ]
     },
     "execution_count": 26,
     "metadata": {},
     "output_type": "execute_result"
    }
   ],
   "source": [
    "cur.fetchone()"
   ]
  },
  {
   "cell_type": "code",
   "execution_count": 18,
   "metadata": {},
   "outputs": [],
   "source": [
    "cur.fetchone() #None"
   ]
  },
  {
   "cell_type": "code",
   "execution_count": 28,
   "metadata": {},
   "outputs": [
    {
     "data": {
      "text/plain": [
       "[('Bonnie Pacheco', 'ukramer@yahoo.com'),\n",
       " ('Daniel Richardson', 'benjamin41@johnson.net'),\n",
       " ('Shaun Vaughn', 'kimberly11@dixon.info'),\n",
       " ('Erin Whitehead', 'karen82@hotmail.com'),\n",
       " ('Debra Castro', 'amanda55@yahoo.com'),\n",
       " ('Jeffrey Thompson', 'ehaas@yahoo.com'),\n",
       " ('Aaron Jackson', 'bsmith@nash-garcia.com'),\n",
       " ('Bianca Mcgee', 'matthewbarber@gmail.com'),\n",
       " ('Aaron Murphy', 'xvilla@bell-miller.com'),\n",
       " ('Nicholas Martinez', 'fcastro@gmail.com'),\n",
       " ('Alan Harris', 'baileyjoseph@gmail.com'),\n",
       " ('Mikayla Bailey', 'bwright@wells.net'),\n",
       " ('Jessica Brown', 'hsmith@lewis.org'),\n",
       " ('Melissa Jackson', 'watsonstuart@gmail.com'),\n",
       " ('Taylor Boyle', 'nwilson@leonard.org'),\n",
       " ('Jenny Smith', 'scottsheila@miller.org'),\n",
       " ('Larry Perez', 'jadams@smith.biz'),\n",
       " ('Sonya Washington', 'qallen@gmail.com'),\n",
       " ('Sarah Ellis', 'lori57@mathis.com'),\n",
       " ('Fernando Estrada', 'mcdowellluis@richardson.com')]"
      ]
     },
     "execution_count": 28,
     "metadata": {},
     "output_type": "execute_result"
    }
   ],
   "source": [
    "fake"
   ]
  },
  {
   "cell_type": "code",
   "execution_count": 29,
   "metadata": {},
   "outputs": [],
   "source": [
    "q = \"INSERT INTO psycopg_test (name, email) VALUES (%s, %s)\"\n",
    "\n",
    "# This works, but don't do multiple inserts this way IRL.\n",
    "with conn:\n",
    "    for item in fake:\n",
    "            cur.execute(q,(item[0], item[1]))"
   ]
  },
  {
   "cell_type": "code",
   "execution_count": null,
   "metadata": {},
   "outputs": [],
   "source": []
  },
  {
   "cell_type": "code",
   "execution_count": 30,
   "metadata": {},
   "outputs": [],
   "source": [
    "cur.execute(\"SELECT * FROM psycopg_test;\")"
   ]
  },
  {
   "cell_type": "code",
   "execution_count": 31,
   "metadata": {},
   "outputs": [
    {
     "data": {
      "text/plain": [
       "[(1, 'sean', 'sean.reed@galvanize.com'),\n",
       " (2, 'Bonnie Pacheco', 'ukramer@yahoo.com'),\n",
       " (3, 'Bonnie Pacheco', 'ukramer@yahoo.com'),\n",
       " (4, 'Bonnie Pacheco', 'ukramer@yahoo.com'),\n",
       " (5, 'Daniel Richardson', 'benjamin41@johnson.net'),\n",
       " (6, 'Shaun Vaughn', 'kimberly11@dixon.info'),\n",
       " (7, 'Erin Whitehead', 'karen82@hotmail.com'),\n",
       " (8, 'Debra Castro', 'amanda55@yahoo.com'),\n",
       " (9, 'Jeffrey Thompson', 'ehaas@yahoo.com'),\n",
       " (10, 'Aaron Jackson', 'bsmith@nash-garcia.com'),\n",
       " (11, 'Bianca Mcgee', 'matthewbarber@gmail.com'),\n",
       " (12, 'Aaron Murphy', 'xvilla@bell-miller.com'),\n",
       " (13, 'Nicholas Martinez', 'fcastro@gmail.com'),\n",
       " (14, 'Alan Harris', 'baileyjoseph@gmail.com'),\n",
       " (15, 'Mikayla Bailey', 'bwright@wells.net'),\n",
       " (16, 'Jessica Brown', 'hsmith@lewis.org'),\n",
       " (17, 'Melissa Jackson', 'watsonstuart@gmail.com'),\n",
       " (18, 'Taylor Boyle', 'nwilson@leonard.org'),\n",
       " (19, 'Jenny Smith', 'scottsheila@miller.org'),\n",
       " (20, 'Larry Perez', 'jadams@smith.biz'),\n",
       " (21, 'Sonya Washington', 'qallen@gmail.com'),\n",
       " (22, 'Sarah Ellis', 'lori57@mathis.com'),\n",
       " (23, 'Fernando Estrada', 'mcdowellluis@richardson.com')]"
      ]
     },
     "execution_count": 31,
     "metadata": {},
     "output_type": "execute_result"
    }
   ],
   "source": [
    "cur.fetchall()"
   ]
  },
  {
   "cell_type": "code",
   "execution_count": 32,
   "metadata": {},
   "outputs": [
    {
     "data": {
      "text/plain": [
       "[]"
      ]
     },
     "execution_count": 32,
     "metadata": {},
     "output_type": "execute_result"
    }
   ],
   "source": [
    "cur.fetchall()"
   ]
  },
  {
   "cell_type": "code",
   "execution_count": null,
   "metadata": {},
   "outputs": [],
   "source": []
  },
  {
   "cell_type": "code",
   "execution_count": 33,
   "metadata": {},
   "outputs": [],
   "source": [
    "cur.scroll(0, 'absolute')"
   ]
  },
  {
   "cell_type": "code",
   "execution_count": 34,
   "metadata": {},
   "outputs": [
    {
     "data": {
      "text/plain": [
       "[(1, 'sean', 'sean.reed@galvanize.com'),\n",
       " (2, 'Bonnie Pacheco', 'ukramer@yahoo.com'),\n",
       " (3, 'Bonnie Pacheco', 'ukramer@yahoo.com'),\n",
       " (4, 'Bonnie Pacheco', 'ukramer@yahoo.com'),\n",
       " (5, 'Daniel Richardson', 'benjamin41@johnson.net'),\n",
       " (6, 'Shaun Vaughn', 'kimberly11@dixon.info'),\n",
       " (7, 'Erin Whitehead', 'karen82@hotmail.com'),\n",
       " (8, 'Debra Castro', 'amanda55@yahoo.com'),\n",
       " (9, 'Jeffrey Thompson', 'ehaas@yahoo.com'),\n",
       " (10, 'Aaron Jackson', 'bsmith@nash-garcia.com'),\n",
       " (11, 'Bianca Mcgee', 'matthewbarber@gmail.com'),\n",
       " (12, 'Aaron Murphy', 'xvilla@bell-miller.com'),\n",
       " (13, 'Nicholas Martinez', 'fcastro@gmail.com'),\n",
       " (14, 'Alan Harris', 'baileyjoseph@gmail.com'),\n",
       " (15, 'Mikayla Bailey', 'bwright@wells.net'),\n",
       " (16, 'Jessica Brown', 'hsmith@lewis.org'),\n",
       " (17, 'Melissa Jackson', 'watsonstuart@gmail.com'),\n",
       " (18, 'Taylor Boyle', 'nwilson@leonard.org'),\n",
       " (19, 'Jenny Smith', 'scottsheila@miller.org'),\n",
       " (20, 'Larry Perez', 'jadams@smith.biz'),\n",
       " (21, 'Sonya Washington', 'qallen@gmail.com'),\n",
       " (22, 'Sarah Ellis', 'lori57@mathis.com'),\n",
       " (23, 'Fernando Estrada', 'mcdowellluis@richardson.com')]"
      ]
     },
     "execution_count": 34,
     "metadata": {},
     "output_type": "execute_result"
    }
   ],
   "source": [
    "output = cur.fetchall()\n",
    "output"
   ]
  },
  {
   "cell_type": "code",
   "execution_count": 25,
   "metadata": {},
   "outputs": [
    {
     "data": {
      "text/plain": [
       "('Melissa King', 'floresmichael@gmail.com')"
      ]
     },
     "execution_count": 25,
     "metadata": {},
     "output_type": "execute_result"
    }
   ],
   "source": [
    "item = fake_data.name(), fake_data.email()\n",
    "item"
   ]
  },
  {
   "cell_type": "code",
   "execution_count": 26,
   "metadata": {},
   "outputs": [
    {
     "data": {
      "text/plain": [
       "'Melissa King'"
      ]
     },
     "execution_count": 26,
     "metadata": {},
     "output_type": "execute_result"
    }
   ],
   "source": [
    "item[0]"
   ]
  },
  {
   "cell_type": "code",
   "execution_count": 27,
   "metadata": {},
   "outputs": [
    {
     "data": {
      "text/plain": [
       "'floresmichael@gmail.com'"
      ]
     },
     "execution_count": 27,
     "metadata": {},
     "output_type": "execute_result"
    }
   ],
   "source": [
    "item[1]"
   ]
  },
  {
   "cell_type": "code",
   "execution_count": 29,
   "metadata": {},
   "outputs": [
    {
     "data": {
      "text/plain": [
       "[('Amber Murphy', 'johnsonjo@ramsey-hoover.net'),\n",
       " ('Kelly Harper', 'andersonvicki@yahoo.com'),\n",
       " ('Alan Long', 'acollins@colon.com'),\n",
       " ('Mrs. Taylor Ellis DDS', 'alyssa20@bradley-brooks.info'),\n",
       " ('Jacqueline Snyder', 'czimmerman@gmail.com'),\n",
       " ('William Ryan', 'edward98@yahoo.com'),\n",
       " ('David Thomas', 'martinshannon@stewart.com'),\n",
       " ('Christopher Stone', 'cindylarson@gmail.com'),\n",
       " ('Jamie Steele', 'igreer@gmail.com'),\n",
       " ('Frances Rowe', 'jenna14@henderson.net'),\n",
       " ('Wendy Savage', 'jasonflowers@hotmail.com'),\n",
       " ('Stephen Zimmerman', 'pgarrett@hotmail.com'),\n",
       " ('Taylor Tanner', 'wgardner@beck.com'),\n",
       " ('Carlos Johnson', 'julieperez@douglas.com'),\n",
       " ('Charles Armstrong', 'pnorton@calhoun.com'),\n",
       " ('Ian Rodriguez', 'jamessmith@woods.biz'),\n",
       " ('Kelly Coleman', 'riveramariah@singh.biz'),\n",
       " ('Raymond Phillips', 'chelseajohnson@gmail.com'),\n",
       " ('Mrs. Susan Harvey', 'davidburton@johnson-herrera.com'),\n",
       " ('Dale Stone', 'ggonzalez@smith.com')]"
      ]
     },
     "execution_count": 29,
     "metadata": {},
     "output_type": "execute_result"
    }
   ],
   "source": [
    "fake"
   ]
  },
  {
   "cell_type": "code",
   "execution_count": 31,
   "metadata": {},
   "outputs": [
    {
     "data": {
      "text/plain": [
       "'Amber Murphy'"
      ]
     },
     "execution_count": 31,
     "metadata": {},
     "output_type": "execute_result"
    }
   ],
   "source": [
    "fake[0][0]"
   ]
  },
  {
   "cell_type": "code",
   "execution_count": 32,
   "metadata": {},
   "outputs": [
    {
     "data": {
      "text/plain": [
       "'johnsonjo@ramsey-hoover.net'"
      ]
     },
     "execution_count": 32,
     "metadata": {},
     "output_type": "execute_result"
    }
   ],
   "source": [
    "fake[0][1]"
   ]
  },
  {
   "cell_type": "code",
   "execution_count": 33,
   "metadata": {},
   "outputs": [
    {
     "data": {
      "text/plain": [
       "'Kelly Harper'"
      ]
     },
     "execution_count": 33,
     "metadata": {},
     "output_type": "execute_result"
    }
   ],
   "source": [
    "fake[1][0]"
   ]
  },
  {
   "cell_type": "code",
   "execution_count": 34,
   "metadata": {},
   "outputs": [
    {
     "data": {
      "text/plain": [
       "'andersonvicki@yahoo.com'"
      ]
     },
     "execution_count": 34,
     "metadata": {},
     "output_type": "execute_result"
    }
   ],
   "source": [
    "fake[1][1]"
   ]
  },
  {
   "cell_type": "code",
   "execution_count": 23,
   "metadata": {},
   "outputs": [],
   "source": [
    "# This works, but don't do this IRL.\n",
    "with conn:\n",
    "    for _ in range(5):\n",
    "            cur.execute(\"INSERT INTO psycopg_test (name, email) VALUES (%s, %s)\",(fake_data.name(), fake_data.email()))"
   ]
  },
  {
   "cell_type": "code",
   "execution_count": null,
   "metadata": {},
   "outputs": [],
   "source": [
    "#The second argument of the cur.execute command protects us from basic SQL injection"
   ]
  },
  {
   "cell_type": "code",
   "execution_count": 24,
   "metadata": {},
   "outputs": [
    {
     "data": {
      "text/plain": [
       "[(1, 'sean', 'sean.reed@galvanize.com'),\n",
       " (2, 'Amber Murphy', 'johnsonjo@ramsey-hoover.net'),\n",
       " (3, 'Amber Murphy', 'johnsonjo@ramsey-hoover.net'),\n",
       " (4, 'Kelly Harper', 'andersonvicki@yahoo.com'),\n",
       " (5, 'Alan Long', 'acollins@colon.com'),\n",
       " (6, 'Mrs. Taylor Ellis DDS', 'alyssa20@bradley-brooks.info'),\n",
       " (7, 'Jacqueline Snyder', 'czimmerman@gmail.com'),\n",
       " (8, 'William Ryan', 'edward98@yahoo.com'),\n",
       " (9, 'David Thomas', 'martinshannon@stewart.com'),\n",
       " (10, 'Christopher Stone', 'cindylarson@gmail.com'),\n",
       " (11, 'Jamie Steele', 'igreer@gmail.com'),\n",
       " (12, 'Frances Rowe', 'jenna14@henderson.net'),\n",
       " (13, 'Wendy Savage', 'jasonflowers@hotmail.com'),\n",
       " (14, 'Stephen Zimmerman', 'pgarrett@hotmail.com'),\n",
       " (15, 'Taylor Tanner', 'wgardner@beck.com'),\n",
       " (16, 'Carlos Johnson', 'julieperez@douglas.com'),\n",
       " (17, 'Charles Armstrong', 'pnorton@calhoun.com'),\n",
       " (18, 'Ian Rodriguez', 'jamessmith@woods.biz'),\n",
       " (19, 'Kelly Coleman', 'riveramariah@singh.biz'),\n",
       " (20, 'Raymond Phillips', 'chelseajohnson@gmail.com'),\n",
       " (21, 'Mrs. Susan Harvey', 'davidburton@johnson-herrera.com'),\n",
       " (22, 'Dale Stone', 'ggonzalez@smith.com'),\n",
       " (23, 'Michael Kennedy', 'joycesmith@hotmail.com'),\n",
       " (24, 'Anthony Hernandez', 'devin69@hotmail.com'),\n",
       " (25, 'Jessica Hale', 'morganmary@rhodes.com'),\n",
       " (26, 'Stephanie Guzman', 'fgaines@gonzalez.net'),\n",
       " (27, 'Katie Davidson', 'youngjonathan@hotmail.com')]"
      ]
     },
     "execution_count": 24,
     "metadata": {},
     "output_type": "execute_result"
    }
   ],
   "source": [
    "cur.execute(\"SELECT * FROM psycopg_test;\")\n",
    "\n",
    "cur.fetchall()"
   ]
  },
  {
   "cell_type": "code",
   "execution_count": null,
   "metadata": {},
   "outputs": [],
   "source": []
  },
  {
   "cell_type": "code",
   "execution_count": 35,
   "metadata": {},
   "outputs": [
    {
     "data": {
      "text/plain": [
       "['DataError',\n",
       " 'DatabaseError',\n",
       " 'Error',\n",
       " 'IntegrityError',\n",
       " 'InterfaceError',\n",
       " 'InternalError',\n",
       " 'NotSupportedError',\n",
       " 'OperationalError',\n",
       " 'ProgrammingError',\n",
       " 'Warning',\n",
       " '__class__',\n",
       " '__delattr__',\n",
       " '__dir__',\n",
       " '__doc__',\n",
       " '__enter__',\n",
       " '__eq__',\n",
       " '__exit__',\n",
       " '__format__',\n",
       " '__ge__',\n",
       " '__getattribute__',\n",
       " '__gt__',\n",
       " '__hash__',\n",
       " '__init__',\n",
       " '__init_subclass__',\n",
       " '__le__',\n",
       " '__lt__',\n",
       " '__ne__',\n",
       " '__new__',\n",
       " '__reduce__',\n",
       " '__reduce_ex__',\n",
       " '__repr__',\n",
       " '__setattr__',\n",
       " '__sizeof__',\n",
       " '__str__',\n",
       " '__subclasshook__',\n",
       " 'async',\n",
       " 'async_',\n",
       " 'autocommit',\n",
       " 'binary_types',\n",
       " 'cancel',\n",
       " 'close',\n",
       " 'closed',\n",
       " 'commit',\n",
       " 'cursor',\n",
       " 'cursor_factory',\n",
       " 'deferrable',\n",
       " 'dsn',\n",
       " 'encoding',\n",
       " 'fileno',\n",
       " 'get_backend_pid',\n",
       " 'get_dsn_parameters',\n",
       " 'get_native_connection',\n",
       " 'get_parameter_status',\n",
       " 'get_transaction_status',\n",
       " 'info',\n",
       " 'isexecuting',\n",
       " 'isolation_level',\n",
       " 'lobject',\n",
       " 'notices',\n",
       " 'notifies',\n",
       " 'pgconn_ptr',\n",
       " 'poll',\n",
       " 'protocol_version',\n",
       " 'readonly',\n",
       " 'reset',\n",
       " 'rollback',\n",
       " 'server_version',\n",
       " 'set_client_encoding',\n",
       " 'set_isolation_level',\n",
       " 'set_session',\n",
       " 'status',\n",
       " 'string_types',\n",
       " 'tpc_begin',\n",
       " 'tpc_commit',\n",
       " 'tpc_prepare',\n",
       " 'tpc_recover',\n",
       " 'tpc_rollback',\n",
       " 'xid']"
      ]
     },
     "execution_count": 35,
     "metadata": {},
     "output_type": "execute_result"
    }
   ],
   "source": [
    "dir(conn)"
   ]
  },
  {
   "cell_type": "code",
   "execution_count": 36,
   "metadata": {},
   "outputs": [
    {
     "data": {
      "text/plain": [
       "0"
      ]
     },
     "execution_count": 36,
     "metadata": {},
     "output_type": "execute_result"
    }
   ],
   "source": [
    "conn.closed # 0 is not closed!"
   ]
  },
  {
   "cell_type": "code",
   "execution_count": 37,
   "metadata": {},
   "outputs": [],
   "source": [
    "cur.close()"
   ]
  },
  {
   "cell_type": "code",
   "execution_count": 38,
   "metadata": {},
   "outputs": [],
   "source": [
    "conn.close()"
   ]
  },
  {
   "cell_type": "code",
   "execution_count": null,
   "metadata": {},
   "outputs": [],
   "source": []
  },
  {
   "cell_type": "code",
   "execution_count": 39,
   "metadata": {},
   "outputs": [
    {
     "data": {
      "text/plain": [
       "['__class__',\n",
       " '__delattr__',\n",
       " '__dir__',\n",
       " '__doc__',\n",
       " '__enter__',\n",
       " '__eq__',\n",
       " '__exit__',\n",
       " '__format__',\n",
       " '__ge__',\n",
       " '__getattribute__',\n",
       " '__gt__',\n",
       " '__hash__',\n",
       " '__init__',\n",
       " '__init_subclass__',\n",
       " '__iter__',\n",
       " '__le__',\n",
       " '__lt__',\n",
       " '__ne__',\n",
       " '__new__',\n",
       " '__next__',\n",
       " '__reduce__',\n",
       " '__reduce_ex__',\n",
       " '__repr__',\n",
       " '__setattr__',\n",
       " '__sizeof__',\n",
       " '__str__',\n",
       " '__subclasshook__',\n",
       " 'arraysize',\n",
       " 'binary_types',\n",
       " 'callproc',\n",
       " 'cast',\n",
       " 'close',\n",
       " 'closed',\n",
       " 'connection',\n",
       " 'copy_expert',\n",
       " 'copy_from',\n",
       " 'copy_to',\n",
       " 'description',\n",
       " 'execute',\n",
       " 'executemany',\n",
       " 'fetchall',\n",
       " 'fetchmany',\n",
       " 'fetchone',\n",
       " 'itersize',\n",
       " 'lastrowid',\n",
       " 'mogrify',\n",
       " 'name',\n",
       " 'nextset',\n",
       " 'pgresult_ptr',\n",
       " 'query',\n",
       " 'row_factory',\n",
       " 'rowcount',\n",
       " 'rownumber',\n",
       " 'scroll',\n",
       " 'scrollable',\n",
       " 'setinputsizes',\n",
       " 'setoutputsize',\n",
       " 'statusmessage',\n",
       " 'string_types',\n",
       " 'typecaster',\n",
       " 'tzinfo_factory',\n",
       " 'withhold']"
      ]
     },
     "execution_count": 39,
     "metadata": {},
     "output_type": "execute_result"
    }
   ],
   "source": [
    "dir(cur)"
   ]
  },
  {
   "cell_type": "code",
   "execution_count": null,
   "metadata": {},
   "outputs": [],
   "source": [
    "#By default, cursors are client side cursors. Naming a cursor is only applicable if you do a server side cursor. \n",
    "cur.name # None. "
   ]
  },
  {
   "cell_type": "markdown",
   "metadata": {},
   "source": [
    "### what does cur.mogrify() do?"
   ]
  },
  {
   "cell_type": "code",
   "execution_count": null,
   "metadata": {},
   "outputs": [],
   "source": []
  },
  {
   "cell_type": "code",
   "execution_count": null,
   "metadata": {},
   "outputs": [],
   "source": [
    "q = \"INSERT INTO psycopg_test (name, email) VALUES (%s, %s)\"\n",
    "cur.mogrify(q)"
   ]
  },
  {
   "cell_type": "code",
   "execution_count": null,
   "metadata": {},
   "outputs": [],
   "source": [
    "data = (fake_data.name(), fake_data.email())"
   ]
  },
  {
   "cell_type": "code",
   "execution_count": null,
   "metadata": {},
   "outputs": [],
   "source": [
    "cur.mogrify(q,data)"
   ]
  },
  {
   "cell_type": "code",
   "execution_count": null,
   "metadata": {},
   "outputs": [],
   "source": []
  },
  {
   "cell_type": "code",
   "execution_count": null,
   "metadata": {},
   "outputs": [],
   "source": [
    "cur.execute(\"SELECT * FROM psycopg_test;\")\n",
    "cur.fetchall()"
   ]
  },
  {
   "cell_type": "code",
   "execution_count": null,
   "metadata": {},
   "outputs": [],
   "source": [
    "cur.query"
   ]
  },
  {
   "cell_type": "code",
   "execution_count": null,
   "metadata": {},
   "outputs": [],
   "source": []
  },
  {
   "cell_type": "markdown",
   "metadata": {},
   "source": [
    "## What does conn.autocommit = True do? \n",
    "\n",
    "## Q: What happens if I don't set it?\n",
    "## A: Bad things, unless you do conn.commit() after each transaction!!"
   ]
  },
  {
   "cell_type": "markdown",
   "metadata": {},
   "source": [
    "### The default is conn.autocommit = False. Let's return to the default setting now."
   ]
  },
  {
   "cell_type": "code",
   "execution_count": 40,
   "metadata": {},
   "outputs": [],
   "source": [
    "conn = psycopg2.connect(database=\"jupyterdb\", user=getpass.getuser()) #create the database before doing thisa\n",
    "cur = conn.cursor()"
   ]
  },
  {
   "cell_type": "code",
   "execution_count": 46,
   "metadata": {},
   "outputs": [],
   "source": [
    "conn = None\n",
    "cur = None\n"
   ]
  },
  {
   "cell_type": "code",
   "execution_count": 47,
   "metadata": {},
   "outputs": [],
   "source": [
    "conn = psycopg2.connect(database=\"jupyterdb\", user=getpass.getuser()) #create the database before doing thisa\n",
    "cur = conn.cursor()"
   ]
  },
  {
   "cell_type": "code",
   "execution_count": 48,
   "metadata": {},
   "outputs": [],
   "source": [
    "conn.autocommit = False"
   ]
  },
  {
   "cell_type": "code",
   "execution_count": 49,
   "metadata": {},
   "outputs": [
    {
     "data": {
      "text/plain": [
       "['Albert Kennedy', 'johnbarnett@alvarez.com']"
      ]
     },
     "execution_count": 49,
     "metadata": {},
     "output_type": "execute_result"
    }
   ],
   "source": [
    "data = [fake_data.name(), fake_data.email()] # data can be any iterable\n",
    "data"
   ]
  },
  {
   "cell_type": "code",
   "execution_count": 50,
   "metadata": {},
   "outputs": [],
   "source": [
    "# This won't work if conn.autocommit == False\n",
    "with conn:\n",
    "    for _ in range(5): #insert the same data 5 times\n",
    "            cur.execute(\"INSERT INTO psycopg_test (name, email) VALUES (%s, %s)\", data)"
   ]
  },
  {
   "cell_type": "code",
   "execution_count": 51,
   "metadata": {},
   "outputs": [],
   "source": [
    "cur.execute(\"SELECT * FROM psycopg_test;\") #NOTHING COMES BACK"
   ]
  },
  {
   "cell_type": "code",
   "execution_count": 52,
   "metadata": {},
   "outputs": [
    {
     "data": {
      "text/plain": [
       "[(1, 'sean', 'sean.reed@galvanize.com'),\n",
       " (2, 'Amber Murphy', 'johnsonjo@ramsey-hoover.net'),\n",
       " (3, 'Amber Murphy', 'johnsonjo@ramsey-hoover.net'),\n",
       " (4, 'Kelly Harper', 'andersonvicki@yahoo.com'),\n",
       " (5, 'Alan Long', 'acollins@colon.com'),\n",
       " (6, 'Mrs. Taylor Ellis DDS', 'alyssa20@bradley-brooks.info'),\n",
       " (7, 'Jacqueline Snyder', 'czimmerman@gmail.com'),\n",
       " (8, 'William Ryan', 'edward98@yahoo.com'),\n",
       " (9, 'David Thomas', 'martinshannon@stewart.com'),\n",
       " (10, 'Christopher Stone', 'cindylarson@gmail.com'),\n",
       " (11, 'Jamie Steele', 'igreer@gmail.com'),\n",
       " (12, 'Frances Rowe', 'jenna14@henderson.net'),\n",
       " (13, 'Wendy Savage', 'jasonflowers@hotmail.com'),\n",
       " (14, 'Stephen Zimmerman', 'pgarrett@hotmail.com'),\n",
       " (15, 'Taylor Tanner', 'wgardner@beck.com'),\n",
       " (16, 'Carlos Johnson', 'julieperez@douglas.com'),\n",
       " (17, 'Charles Armstrong', 'pnorton@calhoun.com'),\n",
       " (18, 'Ian Rodriguez', 'jamessmith@woods.biz'),\n",
       " (19, 'Kelly Coleman', 'riveramariah@singh.biz'),\n",
       " (20, 'Raymond Phillips', 'chelseajohnson@gmail.com'),\n",
       " (21, 'Mrs. Susan Harvey', 'davidburton@johnson-herrera.com'),\n",
       " (22, 'Dale Stone', 'ggonzalez@smith.com'),\n",
       " (23, 'Michael Kennedy', 'joycesmith@hotmail.com'),\n",
       " (24, 'Anthony Hernandez', 'devin69@hotmail.com'),\n",
       " (25, 'Jessica Hale', 'morganmary@rhodes.com'),\n",
       " (26, 'Stephanie Guzman', 'fgaines@gonzalez.net'),\n",
       " (27, 'Katie Davidson', 'youngjonathan@hotmail.com'),\n",
       " (28, 'Krystal Rogers', 'danagreene@daniels.com'),\n",
       " (29, 'Krystal Rogers', 'danagreene@daniels.com'),\n",
       " (30, 'Krystal Rogers', 'danagreene@daniels.com'),\n",
       " (31, 'Krystal Rogers', 'danagreene@daniels.com'),\n",
       " (32, 'Krystal Rogers', 'danagreene@daniels.com'),\n",
       " (33, 'Albert Kennedy', 'johnbarnett@alvarez.com'),\n",
       " (34, 'Albert Kennedy', 'johnbarnett@alvarez.com'),\n",
       " (35, 'Albert Kennedy', 'johnbarnett@alvarez.com'),\n",
       " (36, 'Albert Kennedy', 'johnbarnett@alvarez.com'),\n",
       " (37, 'Albert Kennedy', 'johnbarnett@alvarez.com')]"
      ]
     },
     "execution_count": 52,
     "metadata": {},
     "output_type": "execute_result"
    }
   ],
   "source": [
    "cur.fetchall()"
   ]
  },
  {
   "cell_type": "markdown",
   "metadata": {},
   "source": [
    "### Nothing comes back because we didn't commit the transaction!!!!"
   ]
  },
  {
   "cell_type": "code",
   "execution_count": null,
   "metadata": {},
   "outputs": [],
   "source": [
    "conn.commit() # YOU MUST COMMIT AFTER EACH TRANSACTION when conn.autocommit == False\n"
   ]
  },
  {
   "cell_type": "code",
   "execution_count": null,
   "metadata": {},
   "outputs": [],
   "source": [
    "cur.fetchall()"
   ]
  },
  {
   "cell_type": "code",
   "execution_count": null,
   "metadata": {},
   "outputs": [],
   "source": []
  },
  {
   "cell_type": "code",
   "execution_count": null,
   "metadata": {},
   "outputs": [],
   "source": [
    "cur = conn.cursor()\n",
    "cur.execute(\"SELECT * FROM psycopg_test;\")\n",
    "cur.fetchall()"
   ]
  },
  {
   "cell_type": "code",
   "execution_count": null,
   "metadata": {},
   "outputs": [],
   "source": [
    "cur.close()\n",
    "conn.close() # ALWAYS CLOSE THE connection when you are done. "
   ]
  },
  {
   "cell_type": "code",
   "execution_count": null,
   "metadata": {},
   "outputs": [],
   "source": [
    "## Note context manager will NOT close the connection"
   ]
  },
  {
   "cell_type": "code",
   "execution_count": null,
   "metadata": {},
   "outputs": [],
   "source": []
  },
  {
   "cell_type": "code",
   "execution_count": null,
   "metadata": {},
   "outputs": [],
   "source": [
    "conn = psycopg2.connect(database=\"jupyterdb\", user=getpass.getuser()) #create the database before doing thisa\n",
    "with conn.cursor() as cur:\n",
    "    cur.execute(\"SELECT * FROM psycopg_test;\")\n",
    "    conn.commit()\n",
    "    print(cur.fetchall())"
   ]
  },
  {
   "cell_type": "code",
   "execution_count": null,
   "metadata": {},
   "outputs": [],
   "source": [
    "cur"
   ]
  },
  {
   "cell_type": "code",
   "execution_count": null,
   "metadata": {},
   "outputs": [],
   "source": [
    "with psycopg2.connect(database=\"jupyterdb\", user=getpass.getuser()) as conn:\n",
    "    with conn.cursor() as cur:\n",
    "        cur.execute(\"SELECT * FROM psycopg_test;\")\n",
    "        conn.commit()\n",
    "        print(cur.fetchall())"
   ]
  },
  {
   "cell_type": "code",
   "execution_count": null,
   "metadata": {},
   "outputs": [],
   "source": [
    "cur #closed. Can't be used anymore!"
   ]
  },
  {
   "cell_type": "code",
   "execution_count": null,
   "metadata": {},
   "outputs": [],
   "source": [
    "cur.closed"
   ]
  },
  {
   "cell_type": "code",
   "execution_count": null,
   "metadata": {},
   "outputs": [],
   "source": [
    "cur.execute(\"SELECT * FROM psycopg_test;\")"
   ]
  },
  {
   "cell_type": "code",
   "execution_count": null,
   "metadata": {},
   "outputs": [],
   "source": []
  },
  {
   "cell_type": "code",
   "execution_count": null,
   "metadata": {},
   "outputs": [],
   "source": [
    "conn # NOTE THAT THE CONN IS NOT CLOSED BY THE CONTEXT MANAGER"
   ]
  },
  {
   "cell_type": "code",
   "execution_count": null,
   "metadata": {},
   "outputs": [],
   "source": [
    "conn.closed # 0 is False"
   ]
  },
  {
   "cell_type": "code",
   "execution_count": 53,
   "metadata": {},
   "outputs": [
    {
     "name": "stdout",
     "output_type": "stream",
     "text": [
      "[(1, 'sean', 'sean.reed@galvanize.com'), (2, 'Amber Murphy', 'johnsonjo@ramsey-hoover.net'), (3, 'Amber Murphy', 'johnsonjo@ramsey-hoover.net'), (4, 'Kelly Harper', 'andersonvicki@yahoo.com'), (5, 'Alan Long', 'acollins@colon.com'), (6, 'Mrs. Taylor Ellis DDS', 'alyssa20@bradley-brooks.info'), (7, 'Jacqueline Snyder', 'czimmerman@gmail.com'), (8, 'William Ryan', 'edward98@yahoo.com'), (9, 'David Thomas', 'martinshannon@stewart.com'), (10, 'Christopher Stone', 'cindylarson@gmail.com'), (11, 'Jamie Steele', 'igreer@gmail.com'), (12, 'Frances Rowe', 'jenna14@henderson.net'), (13, 'Wendy Savage', 'jasonflowers@hotmail.com'), (14, 'Stephen Zimmerman', 'pgarrett@hotmail.com'), (15, 'Taylor Tanner', 'wgardner@beck.com'), (16, 'Carlos Johnson', 'julieperez@douglas.com'), (17, 'Charles Armstrong', 'pnorton@calhoun.com'), (18, 'Ian Rodriguez', 'jamessmith@woods.biz'), (19, 'Kelly Coleman', 'riveramariah@singh.biz'), (20, 'Raymond Phillips', 'chelseajohnson@gmail.com'), (21, 'Mrs. Susan Harvey', 'davidburton@johnson-herrera.com'), (22, 'Dale Stone', 'ggonzalez@smith.com'), (23, 'Michael Kennedy', 'joycesmith@hotmail.com'), (24, 'Anthony Hernandez', 'devin69@hotmail.com'), (25, 'Jessica Hale', 'morganmary@rhodes.com'), (26, 'Stephanie Guzman', 'fgaines@gonzalez.net'), (27, 'Katie Davidson', 'youngjonathan@hotmail.com'), (28, 'Krystal Rogers', 'danagreene@daniels.com'), (29, 'Krystal Rogers', 'danagreene@daniels.com'), (30, 'Krystal Rogers', 'danagreene@daniels.com'), (31, 'Krystal Rogers', 'danagreene@daniels.com'), (32, 'Krystal Rogers', 'danagreene@daniels.com'), (33, 'Albert Kennedy', 'johnbarnett@alvarez.com'), (34, 'Albert Kennedy', 'johnbarnett@alvarez.com'), (35, 'Albert Kennedy', 'johnbarnett@alvarez.com'), (36, 'Albert Kennedy', 'johnbarnett@alvarez.com'), (37, 'Albert Kennedy', 'johnbarnett@alvarez.com')]\n"
     ]
    }
   ],
   "source": [
    "# Since conn is not closed, THIS STILL WORKS!!!!! \n",
    "# But this is obviously not what I wanted from the way that I wrote my context manager above\n",
    "\n",
    "with conn.cursor() as cur:\n",
    "    cur.execute(\"SELECT * FROM psycopg_test;\")\n",
    "    conn.commit()\n",
    "    print(cur.fetchall())"
   ]
  },
  {
   "cell_type": "code",
   "execution_count": 54,
   "metadata": {},
   "outputs": [
    {
     "data": {
      "text/plain": [
       "<cursor object at 0x111f48450; closed: -1>"
      ]
     },
     "execution_count": 54,
     "metadata": {},
     "output_type": "execute_result"
    }
   ],
   "source": [
    "cur"
   ]
  },
  {
   "cell_type": "code",
   "execution_count": 55,
   "metadata": {},
   "outputs": [
    {
     "data": {
      "text/plain": [
       "True"
      ]
     },
     "execution_count": 55,
     "metadata": {},
     "output_type": "execute_result"
    }
   ],
   "source": [
    "cur.closed"
   ]
  },
  {
   "cell_type": "code",
   "execution_count": null,
   "metadata": {},
   "outputs": [],
   "source": []
  },
  {
   "cell_type": "code",
   "execution_count": 56,
   "metadata": {},
   "outputs": [],
   "source": [
    "conn.close() # MUST EXPLICITLY CLOSE THE CONNECTION by calling conn.close()\n"
   ]
  },
  {
   "cell_type": "code",
   "execution_count": 57,
   "metadata": {},
   "outputs": [
    {
     "data": {
      "text/plain": [
       "1"
      ]
     },
     "execution_count": 57,
     "metadata": {},
     "output_type": "execute_result"
    }
   ],
   "source": [
    "conn.closed"
   ]
  },
  {
   "cell_type": "code",
   "execution_count": 58,
   "metadata": {},
   "outputs": [
    {
     "ename": "InterfaceError",
     "evalue": "connection already closed",
     "output_type": "error",
     "traceback": [
      "\u001b[0;31m---------------------------------------------------------------------------\u001b[0m",
      "\u001b[0;31mInterfaceError\u001b[0m                            Traceback (most recent call last)",
      "\u001b[0;32m<ipython-input-58-d04a7af41682>\u001b[0m in \u001b[0;36m<module>\u001b[0;34m\u001b[0m\n\u001b[1;32m      1\u001b[0m \u001b[0;31m# Now, THIS NO LONGER WORKS, as expected!\u001b[0m\u001b[0;34m\u001b[0m\u001b[0;34m\u001b[0m\u001b[0;34m\u001b[0m\u001b[0m\n\u001b[0;32m----> 2\u001b[0;31m \u001b[0;32mwith\u001b[0m \u001b[0mconn\u001b[0m\u001b[0;34m.\u001b[0m\u001b[0mcursor\u001b[0m\u001b[0;34m(\u001b[0m\u001b[0;34m)\u001b[0m \u001b[0;32mas\u001b[0m \u001b[0mcur\u001b[0m\u001b[0;34m:\u001b[0m\u001b[0;34m\u001b[0m\u001b[0;34m\u001b[0m\u001b[0m\n\u001b[0m\u001b[1;32m      3\u001b[0m     \u001b[0mcur\u001b[0m\u001b[0;34m.\u001b[0m\u001b[0mexecute\u001b[0m\u001b[0;34m(\u001b[0m\u001b[0;34m\"SELECT * FROM psycopg_test;\"\u001b[0m\u001b[0;34m)\u001b[0m\u001b[0;34m\u001b[0m\u001b[0;34m\u001b[0m\u001b[0m\n\u001b[1;32m      4\u001b[0m     \u001b[0mconn\u001b[0m\u001b[0;34m.\u001b[0m\u001b[0mcommit\u001b[0m\u001b[0;34m(\u001b[0m\u001b[0;34m)\u001b[0m\u001b[0;34m\u001b[0m\u001b[0;34m\u001b[0m\u001b[0m\n\u001b[1;32m      5\u001b[0m     \u001b[0mprint\u001b[0m\u001b[0;34m(\u001b[0m\u001b[0mcur\u001b[0m\u001b[0;34m.\u001b[0m\u001b[0mfetchall\u001b[0m\u001b[0;34m(\u001b[0m\u001b[0;34m)\u001b[0m\u001b[0;34m)\u001b[0m\u001b[0;34m\u001b[0m\u001b[0;34m\u001b[0m\u001b[0m\n",
      "\u001b[0;31mInterfaceError\u001b[0m: connection already closed"
     ]
    }
   ],
   "source": [
    "# Now, THIS NO LONGER WORKS, as expected!\n",
    "with conn.cursor() as cur:\n",
    "    cur.execute(\"SELECT * FROM psycopg_test;\")\n",
    "    conn.commit()\n",
    "    print(cur.fetchall())"
   ]
  },
  {
   "cell_type": "code",
   "execution_count": null,
   "metadata": {},
   "outputs": [],
   "source": []
  }
 ],
 "metadata": {
  "kernelspec": {
   "display_name": "Python 3",
   "language": "python",
   "name": "python3"
  },
  "language_info": {
   "codemirror_mode": {
    "name": "ipython",
    "version": 3
   },
   "file_extension": ".py",
   "mimetype": "text/x-python",
   "name": "python",
   "nbconvert_exporter": "python",
   "pygments_lexer": "ipython3",
   "version": "3.8.6"
  }
 },
 "nbformat": 4,
 "nbformat_minor": 4
}
